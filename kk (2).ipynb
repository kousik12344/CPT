{
 "cells": [
  {
   "cell_type": "code",
   "execution_count": 1,
   "id": "a4801e5f-d3f5-43b4-a019-cc773c299e9f",
   "metadata": {},
   "outputs": [
    {
     "name": "stdout",
     "output_type": "stream",
     "text": [
      "Animal sound\n",
      "Dog barks......!!\n",
      "Puppy weeps......!!\n"
     ]
    }
   ],
   "source": [
    "# multi level inheritance \n",
    "class pet:\n",
    "    def sound(self):\n",
    "        print(\"Animal sound\")\n",
    "class dog(pet):\n",
    "    def bark(self):\n",
    "        print(\"Dog barks......!!\")\n",
    "class puppy(dog):\n",
    "    def weep(self):\n",
    "        print(\"Puppy weeps......!!\")\n",
    "Puppy=puppy()\n",
    "Puppy.sound()\n",
    "Puppy.bark()\n",
    "Puppy.weep()"
   ]
  },
  {
   "cell_type": "code",
   "execution_count": 7,
   "id": "73a4cfc4-2bb0-4d5c-95c7-16059be27c3d",
   "metadata": {},
   "outputs": [
    {
     "name": "stdin",
     "output_type": "stream",
     "text": [
      "enter value x:  5\n",
      "enter value y:  6\n"
     ]
    },
    {
     "name": "stdout",
     "output_type": "stream",
     "text": [
      "Addition: 11\n",
      "Addition: -1\n",
      "Addition: 30\n",
      "Addition: 0\n"
     ]
    }
   ],
   "source": [
    "''' code for math operations using base class,with 1st and 2nd derived class respectively.\n",
    "create an object where derived will be executed and perform multiple operations'''\n",
    "class numbers:\n",
    "    def __init__(self,a,b):\n",
    "        self.a=a\n",
    "        self.b=b\n",
    "class basicops(numbers):\n",
    "    def add(self):\n",
    "        return self.a+self.b\n",
    "    def sub(self):\n",
    "        return self.a-self.b\n",
    "class advops(basicops): \n",
    "    def mul(self):\n",
    "        return self.a*self.b\n",
    "    def div(self):\n",
    "        return self.a//self.b\n",
    "x=int(input(\"enter value x: \"))\n",
    "y=int(input(\"enter value y: \"))\n",
    "clac=advops(x,y)\n",
    "print(\"Addition:\",clac.add())\n",
    "print(\"Addition:\",clac.sub())\n",
    "print(\"Addition:\",clac.mul())\n",
    "print(\"Addition:\",clac.div())\n"
   ]
  },
  {
   "cell_type": "code",
   "execution_count": 25,
   "id": "ed942115-c8a9-4954-bb1b-eab8834f1fc3",
   "metadata": {},
   "outputs": [
    {
     "name": "stdin",
     "output_type": "stream",
     "text": [
      "Enter student name:  sai\n",
      "enter the no of subjects:  3\n",
      "enter the marks for subjects1: 23\n",
      "enter the marks for subjects2: 45\n",
      "enter the marks for subjects3: 67\n"
     ]
    },
    {
     "name": "stdout",
     "output_type": "stream",
     "text": [
      "Student Name: sai\n",
      "Total Marks: 135.0\n",
      "Average: 45.0\n",
      "Grade D\n"
     ]
    }
   ],
   "source": [
    "''' code for student grading system,where student base class has to be derived by marks and marks with grades in a multi-level inheritance.\n",
    "calculate the grade to be alloted to the student with marks A,B,C,D with >=90,\n",
    ">=75,>=60 or less than 60 respectively .\n",
    "student :Henry\n",
    "marks : [85,90,78,92]\n",
    "calculate and display marks,avg,grade of Henry'''\n",
    "class student:\n",
    "    def __init__(self,name):\n",
    "        self.name= name\n",
    "class marks(student):\n",
    "    def __init__(self,name,marks):\n",
    "        super().__init__(name)\n",
    "        self.marks= marks\n",
    "    def total_marks(self):\n",
    "        return sum(self.marks)\n",
    "class grade(marks):\n",
    "    def average(self):\n",
    "        return self.total_marks()/len(self.marks)\n",
    "    def calc_grade(self):\n",
    "        avg=self.average()\n",
    "        if avg>=90:\n",
    "            return 'A'\n",
    "        elif avg>=75:\n",
    "            return 'B'\n",
    "        elif avg>=60:\n",
    "            return 'C'\n",
    "        else:\n",
    "            return 'D'\n",
    "name=input(\"Enter student name: \")\n",
    "subjects=int(input(\"enter the no of subjects: \"))\n",
    "marks=[]\n",
    "for i in range(subjects):\n",
    "    mark=float(input(f\"enter the marks for subjects{i+1}:\"))\n",
    "    marks.append(mark)\n",
    "student=grade(name,marks)\n",
    "print(\"Student Name:\",student.name)\n",
    "print(\"Total Marks:\",student.total_marks())\n",
    "print(\"Average:\",student.average())\n",
    "print(\"Grade\",student.calc_grade())\n",
    "\n",
    "        "
   ]
  },
  {
   "cell_type": "code",
   "execution_count": 32,
   "id": "1fba3fc1-de19-4df2-895d-bd5e0ac144a5",
   "metadata": {},
   "outputs": [
    {
     "name": "stdout",
     "output_type": "stream",
     "text": [
      "Milo barks!!\n",
      "Kitty Meows!!\n"
     ]
    }
   ],
   "source": [
    "#Hierachial Inheritance\n",
    "class pet:\n",
    "    def __init__(self,name):\n",
    "        self.name=name\n",
    "    def sound(self):\n",
    "      print(f\" {self.name} makes a sound\")\n",
    "class dog(pet):  \n",
    "    def sound(self):\n",
    "        print(f\"{self.name} barks!!\")\n",
    "class cat(pet):\n",
    "    def sound(self):\n",
    "        print(f\"{self.name} Meows!!\")\n",
    "d=dog(\"Milo\")\n",
    "c=cat(\"Kitty\")\n",
    "d.sound()\n",
    "c.sound()"
   ]
  },
  {
   "cell_type": "code",
   "execution_count": 40,
   "id": "079c1451-5b71-4262-b01c-19cc2214daa8",
   "metadata": {},
   "outputs": [
    {
     "name": "stdout",
     "output_type": "stream",
     "text": [
      "Area of Rectangle: 50\n",
      "Area of Circle: 153.93804002589985\n",
      "Area of Triangle: 24.0\n"
     ]
    }
   ],
   "source": [
    "''' Hierarchial geometry operations of different shapes area values of all circle,rectangle,triangle derived classes '''\n",
    "import math\n",
    "class shapes:\n",
    "    def __init__(self,d1,d2=0):\n",
    "        self.d1=d1\n",
    "        self.d2=d2\n",
    "class rectangle(shapes):\n",
    "    def area(self):\n",
    "        return self.d1*self.d2\n",
    "class  circle(shapes):\n",
    "    def area(self):\n",
    "        return math.pi * self.d1 * self.d1\n",
    "class triangle(shapes):\n",
    "    def area(self):\n",
    "        return 0.5 * self.d1*self.d2\n",
    "rect=rectangle(10,5)\n",
    "cir = circle(7)\n",
    "tri = triangle(8,6)\n",
    "print(\"Area of Rectangle:\",rect.area())\n",
    "print(\"Area of Circle:\",cir.area())\n",
    "print(\"Area of Triangle:\",tri.area())"
   ]
  },
  {
   "cell_type": "code",
   "execution_count": 48,
   "id": "9a3e6c59-c3f6-4831-8153-9f752d3a726d",
   "metadata": {},
   "outputs": [
    {
     "name": "stdout",
     "output_type": "stream",
     "text": [
      "Area of Rectangle: 22\n",
      "Area of Circle: 113\n",
      "Area of Triangle: 12.0\n"
     ]
    }
   ],
   "source": [
    "# abstraction of the base class for evaluating the area of sq,rect,tri\n",
    "from abc import ABC,abstractmethod\n",
    "from math import pi\n",
    "class shape(ABC):\n",
    "    def __init__(self,name):\n",
    "        self.name=name\n",
    "    @abstractmethod\n",
    "    def area(self):\n",
    "        pass\n",
    "class rectangle(shape):\n",
    "    def __init__(self,l,b):\n",
    "        super().__init__(\"rectangle\")\n",
    "        self.l=l\n",
    "        self.b=b\n",
    "    def area(self):\n",
    "        return self.l * self.b\n",
    "class circle(shape):\n",
    "    def __init__(self,r):\n",
    "        super().__init__(\"circle\")\n",
    "        self.r=r\n",
    "    def area(self):\n",
    "        return pi * self.r * self.r\n",
    "class triangle(shape):\n",
    "    def __init__(self,b,h):\n",
    "      super().__init__(\"triangle\")\n",
    "      self.b=b\n",
    "      self.h=h\n",
    "    def area(self):\n",
    "        return 0.5 * self.b *self.h\n",
    "r=rectangle(11,2)\n",
    "c=circle(6)\n",
    "t=triangle(4,6)\n",
    "print(\"Area of Rectangle:\",r.area())\n",
    "print(\"Area of Circle:\",round(c.area()))\n",
    "print(\"Area of Triangle:\",t.area())\n"
   ]
  },
  {
   "cell_type": "code",
   "execution_count": null,
   "id": "8f1f0a0d-80b8-437b-a801-d7016d53a579",
   "metadata": {},
   "outputs": [],
   "source": []
  }
 ],
 "metadata": {
  "kernelspec": {
   "display_name": "Python 3 (ipykernel)",
   "language": "python",
   "name": "python3"
  },
  "language_info": {
   "codemirror_mode": {
    "name": "ipython",
    "version": 3
   },
   "file_extension": ".py",
   "mimetype": "text/x-python",
   "name": "python",
   "nbconvert_exporter": "python",
   "pygments_lexer": "ipython3",
   "version": "3.12.7"
  }
 },
 "nbformat": 4,
 "nbformat_minor": 5
}
