{
 "cells": [
  {
   "cell_type": "code",
   "execution_count": 22,
   "id": "23fc8eb4-ceaa-44fc-b908-3f74872424f5",
   "metadata": {},
   "outputs": [
    {
     "name": "stdout",
     "output_type": "stream",
     "text": [
      "No Match ........\n"
     ]
    }
   ],
   "source": [
    "''' code to take a text data and fetch to match te given data\n",
    "syntax: re.match(seatchedelement,text) ''' \n",
    "\n",
    "import re\n",
    "text=' hi students how are you!!! '\n",
    "se=r'histudents'\n",
    "output=re.match(se,text)\n",
    "if output:\n",
    "    print(\"Match found for:\",output.group())\n",
    "else:\n",
    "    print(\"No Match ........\")"
   ]
  },
  {
   "cell_type": "code",
   "execution_count": 30,
   "id": "60527aa9-a5ed-4f09-b497-ca2848ab1a57",
   "metadata": {},
   "outputs": [
    {
     "name": "stdout",
     "output_type": "stream",
     "text": [
      "229\n"
     ]
    }
   ],
   "source": [
    "import re\n",
    "text='My number is 229'\n",
    "match=re.search(r'\\d+',text)\n",
    "print(match.group())"
   ]
  },
  {
   "cell_type": "code",
   "execution_count": 7,
   "id": "42d4e263-7a7b-43fc-ac09-23dba0ddc1ee",
   "metadata": {},
   "outputs": [
    {
     "name": "stdin",
     "output_type": "stream",
     "text": [
      "Enter a sentence with a number I have 2 500 rupee notes\n"
     ]
    },
    {
     "name": "stdout",
     "output_type": "stream",
     "text": [
      "Second number found 500\n"
     ]
    }
   ],
   "source": [
    "import re\n",
    "text = input(\"Enter a sentence with a number\")\n",
    "matches=list(re.finditer(r'\\d+',text))\n",
    "if len(matches)>=2:\n",
    "           print(\"Second number found\",matches[1].group())\n",
    "elif len(matches)==1:   \n",
    "           print(\"Only one number found\",matches[0].group())\n",
    "else:\n",
    "           print(\"no match\")"
   ]
  },
  {
   "cell_type": "code",
   "execution_count": 15,
   "id": "72ad7361-a479-428d-874b-9a65ed59583e",
   "metadata": {},
   "outputs": [
    {
     "name": "stdin",
     "output_type": "stream",
     "text": [
      "Enter a sentence with a number I have 2 locks in 2 1\n",
      "which number you want to extract: 3\n"
     ]
    },
    {
     "name": "stdout",
     "output_type": "stream",
     "text": [
      "3th number is: 1\n"
     ]
    }
   ],
   "source": [
    "import re   \n",
    "text=input(\"Enter a sentence with a number\")\n",
    "n=int(input(\"which number you want to extract:\"))\n",
    "matches=re.findall(r'\\d+',text)\n",
    "if len(matches)>=n:\n",
    "    print(f\"{n}th number is:\",matches[n-1])\n",
    "else:\n",
    "    print(\"Not found\")"
   ]
  },
  {
   "cell_type": "code",
   "execution_count": 19,
   "id": "062846aa-39f9-43f3-8dfa-9dc34b227f97",
   "metadata": {},
   "outputs": [
    {
     "name": "stdin",
     "output_type": "stream",
     "text": [
      "Enter your email:  ye@gmail.com\n"
     ]
    },
    {
     "name": "stdout",
     "output_type": "stream",
     "text": [
      "valid\n"
     ]
    }
   ],
   "source": [
    "import re\n",
    "email=input(\"Enter your email: \")\n",
    "pattern=r'^[a-zA-Z0-9_]+@[a-zA-Z0-9]+\\.[a-zA-Z]{2,}$'\n",
    "if re.match(pattern,email):\n",
    "    print(\"valid\")\n",
    "else:\n",
    "    print(\"Not Valid\")"
   ]
  },
  {
   "cell_type": "code",
   "execution_count": 21,
   "id": "6036e496-85a3-48ab-be88-90bad6cebf1b",
   "metadata": {},
   "outputs": [
    {
     "name": "stdin",
     "output_type": "stream",
     "text": [
      "Enter your number:  6302257577\n"
     ]
    },
    {
     "name": "stdout",
     "output_type": "stream",
     "text": [
      "valid\n"
     ]
    }
   ],
   "source": [
    "import re\n",
    "phone= input(\"Enter your number: \")\n",
    "pattern=r'^[6-9]\\d{9}$'\n",
    "if re.match(pattern, phone):\n",
    "      print(\"valid\")\n",
    "else:\n",
    "      print(\"No valid\")"
   ]
  },
  {
   "cell_type": "code",
   "execution_count": null,
   "id": "66607041-ada7-4f17-a4e1-1cb21dac90a0",
   "metadata": {},
   "outputs": [],
   "source": []
  }
 ],
 "metadata": {
  "kernelspec": {
   "display_name": "Python 3 (ipykernel)",
   "language": "python",
   "name": "python3"
  },
  "language_info": {
   "codemirror_mode": {
    "name": "ipython",
    "version": 3
   },
   "file_extension": ".py",
   "mimetype": "text/x-python",
   "name": "python",
   "nbconvert_exporter": "python",
   "pygments_lexer": "ipython3",
   "version": "3.12.7"
  }
 },
 "nbformat": 4,
 "nbformat_minor": 5
}
