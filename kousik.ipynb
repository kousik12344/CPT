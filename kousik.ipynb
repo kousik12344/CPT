{
 "cells": [
  {
   "cell_type": "code",
   "execution_count": 1,
   "id": "2f2d9ba7",
   "metadata": {},
   "outputs": [
    {
     "name": "stdout",
     "output_type": "stream",
     "text": [
      "16\n"
     ]
    }
   ],
   "source": [
    "o=(lambda a: lambda b,c:(a+b)*c)(5)(3,2)\n",
    "print(o)"
   ]
  },
  {
   "cell_type": "code",
   "execution_count": 2,
   "id": "38bd669d",
   "metadata": {},
   "outputs": [
    {
     "name": "stdout",
     "output_type": "stream",
     "text": [
      "45\n"
     ]
    }
   ],
   "source": [
    "o=(lambda a: lambda b : lambda c,d:(a+b) * (c+d))(2)(3)(4,5)\n",
    "print(o)"
   ]
  },
  {
   "cell_type": "code",
   "execution_count": 3,
   "id": "2e658969",
   "metadata": {},
   "outputs": [
    {
     "name": "stdout",
     "output_type": "stream",
     "text": [
      "a: 2\n",
      "x: 3\n",
      "125\n"
     ]
    }
   ],
   "source": [
    "num=int(input(\"a: \"))\n",
    "n=int(input(\"x: \"))\n",
    "oper=lambda a: lambda x:(x+a)**3\n",
    "numsq=oper(num)\n",
    "print(numsq(n))"
   ]
  },
  {
   "cell_type": "code",
   "execution_count": 9,
   "id": "1d843b00",
   "metadata": {},
   "outputs": [
    {
     "name": "stdout",
     "output_type": "stream",
     "text": [
      "Invalid Datatype!!!\n"
     ]
    }
   ],
   "source": [
    "# (a-b)/(c-d) expression with different modulations\n",
    "try:\n",
    "    o=(lambda a: lambda b: lambda c,d:(a-b)/(c-d))(\"10\")(4)(8,6)\n",
    "    print(o)\n",
    "except ZeroDivisionError:\n",
    "    print(\"Division by Zero error!!!\")\n",
    "except TypeError:\n",
    "    print(\"Invalid Datatype!!!\")\n",
    "    "
   ]
  },
  {
   "cell_type": "code",
   "execution_count": 10,
   "id": "0f8b2fca",
   "metadata": {},
   "outputs": [
    {
     "name": "stdout",
     "output_type": "stream",
     "text": [
      "Hi-Students-Good-Morning\n"
     ]
    }
   ],
   "source": [
    "''' simple nested lambda string combining with seperator operation for n attributes'''\n",
    "o=(lambda a:lambda b:lambda c,d:a+'-'+b+'-'+c+'-'+d)('Hi')(\"Students\")(\"Good\",\"Morning\")\n",
    "print(o)"
   ]
  },
  {
   "cell_type": "code",
   "execution_count": 16,
   "id": "2005a33a",
   "metadata": {
    "scrolled": true
   },
   "outputs": [
    {
     "name": "stdout",
     "output_type": "stream",
     "text": [
      "HI!STUDENTS!!!\n"
     ]
    }
   ],
   "source": [
    "''' given attributes a,b,c,d are hi ,!,students,!!!\n",
    "write a nested lambda to concatenate the abcd,by converting a and c to uppercase\n",
    "output:HI!STUDENTS!!!\n",
    "'''\n",
    "p=(lambda a:lambda b:lambda c,d:a.upper()+b+c.upper()+d)('hi')('!')(\"students\",'!!!')\n",
    "print(p)"
   ]
  },
  {
   "cell_type": "code",
   "execution_count": 21,
   "id": "27a4f66a",
   "metadata": {
    "scrolled": true
   },
   "outputs": [
    {
     "name": "stdout",
     "output_type": "stream",
     "text": [
      "ih olleh stneduts !!!srehcaet\n"
     ]
    }
   ],
   "source": [
    "k=(lambda a:lambda b:lambda c,d:a[::-1]+\" \"+b[::-1]+\" \"+c[::-1]+\" \"+d[::-1])('hi')('hello')('students','teachers!!!')\n",
    "print(k)"
   ]
  },
  {
   "cell_type": "code",
   "execution_count": 22,
   "id": "60b12af3",
   "metadata": {},
   "outputs": [
    {
     "name": "stdout",
     "output_type": "stream",
     "text": [
      "['ih', 'olleh', 'stneduts', '!!!']\n"
     ]
    }
   ],
   "source": [
    "o=(lambda a: lambda b:lambda c,d:[a[::-1],b[::-1],c[::-1],d[::-1]])('hi')('hello')('students','!!!')\n",
    "print(o)"
   ]
  },
  {
   "cell_type": "code",
   "execution_count": 24,
   "id": "6d9137e9",
   "metadata": {},
   "outputs": [
    {
     "name": "stdout",
     "output_type": "stream",
     "text": [
      "[12, 12, 9, 16]\n"
     ]
    }
   ],
   "source": [
    "numbers=lambda x: lambda a:a*2 if a>x else a*3\n",
    "above_5=numbers(5)\n",
    "num =[4,6,3,8]\n",
    "o=list(map(above_5,num))\n",
    "print(o)"
   ]
  },
  {
   "cell_type": "code",
   "execution_count": null,
   "id": "05d37dd2",
   "metadata": {},
   "outputs": [],
   "source": []
  }
 ],
 "metadata": {
  "kernelspec": {
   "display_name": "Python 3 (ipykernel)",
   "language": "python",
   "name": "python3"
  },
  "language_info": {
   "codemirror_mode": {
    "name": "ipython",
    "version": 3
   },
   "file_extension": ".py",
   "mimetype": "text/x-python",
   "name": "python",
   "nbconvert_exporter": "python",
   "pygments_lexer": "ipython3",
   "version": "3.11.3"
  }
 },
 "nbformat": 4,
 "nbformat_minor": 5
}
