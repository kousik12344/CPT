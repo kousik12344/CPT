{
 "cells": [
  {
   "cell_type": "code",
   "execution_count": 3,
   "id": "b271ed20-0399-459e-b7cc-cd962a87f0cd",
   "metadata": {},
   "outputs": [
    {
     "name": "stdout",
     "output_type": "stream",
     "text": [
      "[10, 3, 100]\n"
     ]
    }
   ],
   "source": [
    "data=[10,'hi',4.5,'students',3,100]\n",
    "print([x for x in data if(lambda y: type(y)==int)(x)])"
   ]
  },
  {
   "cell_type": "code",
   "execution_count": 5,
   "id": "ce01e434-8b73-4674-824c-4c9dc67ffcda",
   "metadata": {},
   "outputs": [
    {
     "name": "stdout",
     "output_type": "stream",
     "text": [
      "5\n"
     ]
    }
   ],
   "source": [
    "''' pvar=lambda v1,v2.......:operation/condition/boolean'''\n",
    "add = lambda x,y:x+y\n",
    "print(add(2,3))"
   ]
  },
  {
   "cell_type": "code",
   "execution_count": 7,
   "id": "1f315610-e575-4938-a892-ecf9f878b32d",
   "metadata": {},
   "outputs": [
    {
     "name": "stdout",
     "output_type": "stream",
     "text": [
      "24\n"
     ]
    }
   ],
   "source": [
    "'''calculate the factorial of n using recursion of lambda function when n=4'''\n",
    "factorial = lambda f: lambda n: 1 if n == 0 else n * f(f)(n - 1)\n",
    "result = factorial(factorial)(4)\n",
    "print(result)  # Output: 24\n"
   ]
  },
  {
   "cell_type": "code",
   "execution_count": 11,
   "id": "578298e1-987a-4cac-bdb1-ee5d9a10596b",
   "metadata": {},
   "outputs": [
    {
     "name": "stdout",
     "output_type": "stream",
     "text": [
      "720\n"
     ]
    }
   ],
   "source": [
    "fact=(lambda f: lambda n:1 if n==0 else\n",
    "      n*f(f)(n-1))(lambda f :lambda n:1\n",
    "                   if n==0 else n*f(f)(n-1))\n",
    "print(fact(6))"
   ]
  },
  {
   "cell_type": "code",
   "execution_count": 13,
   "id": "afa5b1d9-be78-4bd3-b13b-2b45c48dc627",
   "metadata": {},
   "outputs": [
    {
     "name": "stdout",
     "output_type": "stream",
     "text": [
      "15\n"
     ]
    }
   ],
   "source": [
    "n=3246\n",
    "sd=lambda n:0 if n==0 else n%10+ sd(n//10)\n",
    "print(sd(n))"
   ]
  },
  {
   "cell_type": "code",
   "execution_count": 15,
   "id": "78c85526-24d9-4948-9101-a3c3ed967ec6",
   "metadata": {},
   "outputs": [
    {
     "name": "stdout",
     "output_type": "stream",
     "text": [
      "10\n"
     ]
    }
   ],
   "source": [
    "dsum=(lambda f: lambda n:0 if n==0 else n%10+f(f)(n//10))(lambda f: lambda n:0 if n==0 else n%10 + f(f)(n//10))\n",
    "print(dsum(1234))"
   ]
  },
  {
   "cell_type": "code",
   "execution_count": 17,
   "id": "e9de84b5-e762-454b-a31a-8e060eb3e231",
   "metadata": {},
   "outputs": [
    {
     "name": "stdout",
     "output_type": "stream",
     "text": [
      "5\n"
     ]
    }
   ],
   "source": [
    "big=lambda x,y: x if x>y else y\n",
    "print(big(5,2))"
   ]
  },
  {
   "cell_type": "code",
   "execution_count": 19,
   "id": "75376e3b-85f3-4731-a245-a4151774f9b9",
   "metadata": {},
   "outputs": [
    {
     "name": "stdout",
     "output_type": "stream",
     "text": [
      "[22, 44, 66]\n"
     ]
    }
   ],
   "source": [
    "nums=[11,22,33,44,55,66,77,99]\n",
    "e=list(filter(lambda num:num%2 ==0 ,nums))\n",
    "print(e)"
   ]
  },
  {
   "cell_type": "code",
   "execution_count": 1,
   "id": "168edf66-c281-4f4d-a9d7-51cc3cb41691",
   "metadata": {},
   "outputs": [
    {
     "name": "stdout",
     "output_type": "stream",
     "text": [
      "[(2, 11), (66, 66), (11, 99)]\n"
     ]
    }
   ],
   "source": [
    "packs=[(11,99),(2,11),(66,66)]\n",
    "result=sorted(packs,key=lambda x:x[1])\n",
    "print(result)"
   ]
  },
  {
   "cell_type": "code",
   "execution_count": 3,
   "id": "29238507-38f6-42e0-9246-9242a681e84c",
   "metadata": {},
   "outputs": [
    {
     "name": "stdout",
     "output_type": "stream",
     "text": [
      "10\n"
     ]
    }
   ],
   "source": [
    "def b(n):\n",
    "    return lambda x:x*n\n",
    "a=b(2)\n",
    "print(a(5))"
   ]
  },
  {
   "cell_type": "code",
   "execution_count": 9,
   "id": "53e670cf-4f50-4a6a-af95-1accb539d7a5",
   "metadata": {},
   "outputs": [
    {
     "name": "stdout",
     "output_type": "stream",
     "text": [
      "8\n",
      "27\n"
     ]
    }
   ],
   "source": [
    "def a(n):\n",
    "    return n**3\n",
    "b=lambda x: x**3\n",
    "print(a(2))\n",
    "print(b(3))\n"
   ]
  },
  {
   "cell_type": "code",
   "execution_count": 11,
   "id": "f29f7710-a03f-4985-9cd9-c13c481f12f3",
   "metadata": {},
   "outputs": [
    {
     "name": "stdout",
     "output_type": "stream",
     "text": [
      "yeluchuri\n",
      "1234\n"
     ]
    }
   ],
   "source": [
    "''' code to declare the longest string using lambda '''\n",
    "long = lambda a,b: a if len(a)> len(b) else b\n",
    "print(long('kousik','yeluchuri'))\n",
    "print(long('1234','11'))\n"
   ]
  },
  {
   "cell_type": "code",
   "execution_count": 15,
   "id": "34f3154a-bb55-48d5-8d6c-7368437c0ded",
   "metadata": {},
   "outputs": [
    {
     "name": "stdout",
     "output_type": "stream",
     "text": [
      "['PEN', 'CAP', 'BAT']\n"
     ]
    }
   ],
   "source": [
    "#LC with lambda \n",
    "data=['pen','cap','bat']\n",
    "f=[(lambda x: x.upper())(d) for d in data]\n",
    "print(f)\n"
   ]
  },
  {
   "cell_type": "code",
   "execution_count": 23,
   "id": "128b59e9-e536-4b7b-82df-04146630f9d7",
   "metadata": {},
   "outputs": [
    {
     "name": "stdout",
     "output_type": "stream",
     "text": [
      "kisuok\n"
     ]
    }
   ],
   "source": [
    "str='kousik'\n",
    "g=lambda x: x[::-1]\n",
    "print(g(str))"
   ]
  },
  {
   "cell_type": "code",
   "execution_count": 31,
   "id": "893ff7a2-5bf1-4373-ba88-ea11c6045070",
   "metadata": {},
   "outputs": [
    {
     "name": "stdout",
     "output_type": "stream",
     "text": [
      "['iruhculey', 'ias', 'liblik']\n"
     ]
    }
   ],
   "source": [
    "words=['yeluchuri','sai','kilbil']\n",
    "rw=[(lambda w:w[::-1])(word) for word in words]\n",
    "print(rw)"
   ]
  },
  {
   "cell_type": "code",
   "execution_count": null,
   "id": "862d2a6c-5a61-40e9-872c-7a1d4cf375cb",
   "metadata": {},
   "outputs": [],
   "source": [
    " "
   ]
  }
 ],
 "metadata": {
  "kernelspec": {
   "display_name": "Python 3 (ipykernel)",
   "language": "python",
   "name": "python3"
  },
  "language_info": {
   "codemirror_mode": {
    "name": "ipython",
    "version": 3
   },
   "file_extension": ".py",
   "mimetype": "text/x-python",
   "name": "python",
   "nbconvert_exporter": "python",
   "pygments_lexer": "ipython3",
   "version": "3.12.7"
  }
 },
 "nbformat": 4,
 "nbformat_minor": 5
}
