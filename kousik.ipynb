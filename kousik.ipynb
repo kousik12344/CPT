{
 "cells": [
  {
   "cell_type": "code",
   "execution_count": 3,
   "id": "592b329f-2810-46d9-a620-f84d8334e32a",
   "metadata": {},
   "outputs": [
    {
     "name": "stdout",
     "output_type": "stream",
     "text": [
      "6\n",
      "110\n"
     ]
    }
   ],
   "source": [
    "# functions with keyword args *\n",
    "def result(*args):\n",
    "  return sum(args)\n",
    "print(result(1,2,3))\n",
    "print(result(11,22,33,44))\n"
   ]
  },
  {
   "cell_type": "code",
   "execution_count": 5,
   "id": "e8dc2cb0-06bb-4c71-bfbe-9803a040c836",
   "metadata": {},
   "outputs": [
    {
     "name": "stdout",
     "output_type": "stream",
     "text": [
      "name : vijay\n",
      "age : 12\n",
      "city : Mumbai\n"
     ]
    }
   ],
   "source": [
    "# functions with keyword args **\n",
    "def info(**kwargs):\n",
    "    for key,value in kwargs.items():\n",
    "        print(f\"{key} : {value}\")\n",
    "info(name=\"vijay\",age=12,city=\"Mumbai\")"
   ]
  },
  {
   "cell_type": "code",
   "execution_count": 9,
   "id": "84e670f5-3b27-4a38-9ef8-7c7f68386981",
   "metadata": {},
   "outputs": [
    {
     "name": "stdout",
     "output_type": "stream",
     "text": [
      "25\n",
      "9\n"
     ]
    }
   ],
   "source": [
    "#lambda function\n",
    "sq=lambda x: x*x\n",
    "print(sq(5))\n",
    "add=lambda x,y,z:x+y+z\n",
    "print(add(3,5,1))"
   ]
  },
  {
   "cell_type": "code",
   "execution_count": 38,
   "id": "5761dafa-6778-4c8c-a1c6-c01c82fa59ff",
   "metadata": {},
   "outputs": [
    {
     "name": "stdout",
     "output_type": "stream",
     "text": [
      "Min:1,Max:5,Average:3.0\n"
     ]
    }
   ],
   "source": [
    "'''write a program to return n numbers of multiple values\n",
    "Where passing a list of 1 to 5 elements\n",
    "return the min,max and avg in a single function'''\n",
    "def allnum(n):\n",
    "    return min(n),max(n),sum(n)/len(n)\n",
    "result = allnum([1,2,3,4,5])\n",
    "min_val,max_val,avg=result\n",
    "print(f\"Min:{min_val},Max:{max_val},Average:{avg}\")\n",
    "    "
   ]
  },
  {
   "cell_type": "code",
   "execution_count": 40,
   "id": "51bb925b-b9c2-4a69-9db9-7ae7202208f2",
   "metadata": {},
   "outputs": [
    {
     "name": "stdout",
     "output_type": "stream",
     "text": [
      "120\n"
     ]
    }
   ],
   "source": [
    "#direct recursion fact\n",
    "def fact(n):\n",
    "    if n==0 or n==1:\n",
    "        return 1\n",
    "    return n*fact(n-1)    \n",
    "print(fact(5))"
   ]
  },
  {
   "cell_type": "code",
   "execution_count": null,
   "id": "787d9b08-b2fd-4880-b1dc-2d1bf2d84b15",
   "metadata": {},
   "outputs": [
    {
     "name": "stdout",
     "output_type": "stream",
     "text": [
      "True\n",
      "True\n"
     ]
    }
   ],
   "source": [
    "#Indirect recursion fact\n",
    "def e(n):\n",
    "    if n==0:\n",
    "        return True\n",
    "    return o(n-1)\n",
    "def o(n):\n",
    "    if n==0:\n",
    "        return False\n",
    "    return e(n-1)\n",
    "print(e(4))\n",
    "print(o(3))"
   ]
  },
  {
   "cell_type": "code",
   "execution_count": null,
   "id": "06c2699b-5f30-462f-a4d1-a37b76a16480",
   "metadata": {},
   "outputs": [
    {
     "name": "stdout",
     "output_type": "stream",
     "text": [
      "120\n"
     ]
    }
   ],
   "source": [
    "#Tail Recursion\n",
    "def fact(n,tail=1):\n",
    "    if n==0 or n==1:\n",
    "        return tail\n",
    "    return fact(n-1,n*tail)\n",
    "\n",
    "print(fact(5))"
   ]
  },
  {
   "cell_type": "code",
   "execution_count": 46,
   "id": "cbea88b7-dae3-4936-ae26-1f7b37e69714",
   "metadata": {},
   "outputs": [
    {
     "name": "stdout",
     "output_type": "stream",
     "text": [
      "55\n"
     ]
    }
   ],
   "source": [
    "#linear rec\n",
    "def total(n):\n",
    "    if n<=0:\n",
    "        return 0\n",
    "    return n+total(n-1)   \n",
    "print(total(10))"
   ]
  },
  {
   "cell_type": "code",
   "execution_count": null,
   "id": "ef58df13-a682-4a92-a718-15528a2ed629",
   "metadata": {},
   "outputs": [
    {
     "name": "stdout",
     "output_type": "stream",
     "text": [
      "288\n",
      "12\n"
     ]
    }
   ],
   "source": [
    "#binary recursion\n",
    "def sfact(n):\n",
    "    if n<=1:\n",
    "        return 1\n",
    "    return fact(n)*sfact(n-1)\n",
    "def fact(n):\n",
    "    if n<=1:\n",
    "        return 1\n",
    "    return n*fact(n-1)\n",
    "print(sfact(4)) \n",
    "print(sfact(3))\n"
   ]
  },
  {
   "cell_type": "code",
   "execution_count": 1,
   "id": "6b39dda9-dbec-464e-b65d-3f8779e9a2c7",
   "metadata": {},
   "outputs": [
    {
     "name": "stdout",
     "output_type": "stream",
     "text": [
      "65536\n",
      "27\n"
     ]
    }
   ],
   "source": [
    "def pt(a,n):\n",
    "    if n==1:\n",
    "      return a\n",
    "    return a**pt(a,n-1)\n",
    "print(pt(2,4))\n",
    "print(pt(3,2))"
   ]
  },
  {
   "cell_type": "code",
   "execution_count": null,
   "id": "fc878c0a-4492-4f25-8291-32824ed13589",
   "metadata": {},
   "outputs": [],
   "source": []
  }
 ],
 "metadata": {
  "kernelspec": {
   "display_name": "Python 3",
   "language": "python",
   "name": "python3"
  },
  "language_info": {
   "codemirror_mode": {
    "name": "ipython",
    "version": 3
   },
   "file_extension": ".py",
   "mimetype": "text/x-python",
   "name": "python",
   "nbconvert_exporter": "python",
   "pygments_lexer": "ipython3",
   "version": "3.11.4"
  }
 },
 "nbformat": 4,
 "nbformat_minor": 5
}
