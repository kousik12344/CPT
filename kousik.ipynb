{
 "cells": [
  {
   "cell_type": "code",
   "execution_count": 3,
   "id": "dea4648b-47fd-4e3c-bdf2-1ed7cd810ff8",
   "metadata": {},
   "outputs": [
    {
     "name": "stdout",
     "output_type": "stream",
     "text": [
      "Collecting numpy\n",
      "  Using cached numpy-2.3.2-cp313-cp313-win_amd64.whl.metadata (60 kB)\n",
      "Using cached numpy-2.3.2-cp313-cp313-win_amd64.whl (12.8 MB)\n",
      "Installing collected packages: numpy\n",
      "Successfully installed numpy-2.3.2\n"
     ]
    }
   ],
   "source": [
    "!pip install numpy"
   ]
  },
  {
   "cell_type": "code",
   "execution_count": 7,
   "id": "b65940ad-4eb7-4e43-885c-32c7a982bd03",
   "metadata": {},
   "outputs": [],
   "source": [
    "import numpy as np"
   ]
  },
  {
   "cell_type": "code",
   "execution_count": 8,
   "id": "06e1f115-46aa-4449-ae92-b82ee6d0f157",
   "metadata": {},
   "outputs": [
    {
     "name": "stdout",
     "output_type": "stream",
     "text": [
      "Array 1-D [1 2 3 4 5]\n"
     ]
    }
   ],
   "source": [
    "x=np.array([1,2,3,4,5])\n",
    "print(\"Array 1-D\",x)"
   ]
  },
  {
   "cell_type": "code",
   "execution_count": 9,
   "id": "83d606cf-d2c9-4caf-b35f-6d4a832b5072",
   "metadata": {},
   "outputs": [
    {
     "name": "stdout",
     "output_type": "stream",
     "text": [
      "[ 5 12 21 32]\n",
      "[5, 12, 21, 32]\n"
     ]
    }
   ],
   "source": [
    "#With Numpy\n",
    "a=np.array([1,2,3,4])\n",
    "b=np.array([5,6,7,8])\n",
    "c=a*b\n",
    "print(c)\n",
    "\n",
    "#Without Numpy\n",
    "a=[1,2,3,4]\n",
    "b=[5,6,7,8]\n",
    "c=[]\n",
    "for i in range(len(a)):\n",
    "    c.append(a[i]*b[i])\n",
    "print(c)    "
   ]
  },
  {
   "cell_type": "code",
   "execution_count": 10,
   "id": "6e9ac322-51c8-4e64-b46c-e87f38039155",
   "metadata": {},
   "outputs": [
    {
     "name": "stdout",
     "output_type": "stream",
     "text": [
      "Array 1D [1 2 3 4]\n",
      "Array 2D\n",
      " [[1 2]\n",
      " [3 4]]\n"
     ]
    }
   ],
   "source": [
    "a=np.array([1,2,3,4])\n",
    "print(\"Array 1D\",a)\n",
    "\n",
    "b=np.array([[1,2],[3,4]])\n",
    "print(\"Array 2D\\n\",b)"
   ]
  },
  {
   "cell_type": "code",
   "execution_count": 12,
   "id": "58e122b4-4959-42a8-9a0c-a203ade5ba1a",
   "metadata": {},
   "outputs": [
    {
     "name": "stdout",
     "output_type": "stream",
     "text": [
      "ones \n",
      " [[1. 1. 1. 1. 1. 1.]\n",
      " [1. 1. 1. 1. 1. 1.]\n",
      " [1. 1. 1. 1. 1. 1.]]\n",
      "Zeros \n",
      " [[0. 0. 0. 0. 0. 0. 0. 0. 0. 0.]\n",
      " [0. 0. 0. 0. 0. 0. 0. 0. 0. 0.]\n",
      " [0. 0. 0. 0. 0. 0. 0. 0. 0. 0.]\n",
      " [0. 0. 0. 0. 0. 0. 0. 0. 0. 0.]\n",
      " [0. 0. 0. 0. 0. 0. 0. 0. 0. 0.]\n",
      " [0. 0. 0. 0. 0. 0. 0. 0. 0. 0.]\n",
      " [0. 0. 0. 0. 0. 0. 0. 0. 0. 0.]\n",
      " [0. 0. 0. 0. 0. 0. 0. 0. 0. 0.]\n",
      " [0. 0. 0. 0. 0. 0. 0. 0. 0. 0.]\n",
      " [0. 0. 0. 0. 0. 0. 0. 0. 0. 0.]]\n",
      "Identical coordinates: \n",
      " [[1. 0. 0. 0. 0. 0. 0. 0.]\n",
      " [0. 1. 0. 0. 0. 0. 0. 0.]\n",
      " [0. 0. 1. 0. 0. 0. 0. 0.]\n",
      " [0. 0. 0. 1. 0. 0. 0. 0.]\n",
      " [0. 0. 0. 0. 1. 0. 0. 0.]\n",
      " [0. 0. 0. 0. 0. 1. 0. 0.]\n",
      " [0. 0. 0. 0. 0. 0. 1. 0.]\n",
      " [0. 0. 0. 0. 0. 0. 0. 1.]]\n",
      "Array:  [ 0  2  4  6  8 10]\n",
      "linspace:  [0.   0.25 0.5  0.75 1.  ]\n"
     ]
    }
   ],
   "source": [
    "o=np.ones((3,6))\n",
    "print(\"ones \\n\",o)\n",
    "\n",
    "z=np.zeros((10,10))\n",
    "print(\"Zeros \\n\",z)\n",
    "\n",
    "i=np.eye(8)\n",
    "print(\"Identical coordinates: \\n\",i)\n",
    "\n",
    "r=np.arange(0,11,2)\n",
    "print(\"Array: \",r)\n",
    "\n",
    "seperate=np.linspace(0,1,5)\n",
    "print(\"linspace: \",seperate)"
   ]
  },
  {
   "cell_type": "code",
   "execution_count": 18,
   "id": "3e55af68-2136-43e5-b187-5f4259589523",
   "metadata": {},
   "outputs": [
    {
     "name": "stdout",
     "output_type": "stream",
     "text": [
      "Addition: [ 6  8 10 12]\n",
      "product: [ 5 12 21 32]\n",
      "Square:  [ 1  4  9 16]\n",
      "Sin values:  [-0.95892427 -0.2794155   0.6569866   0.98935825]\n",
      "Mean:  2.5\n",
      "Max :  4\n"
     ]
    }
   ],
   "source": [
    "'''Operations on arrays using numpy'''\n",
    "import numpy as np\n",
    "a=np.array([1,2,3,4])\n",
    "b=np.array([5,6,7,8])\n",
    "print(\"Addition:\",a+b)\n",
    "print(\"product:\",a*b)\n",
    "print(\"Square: \",a**2)\n",
    "print(\"Sin values: \",np.sin(b))\n",
    "print(\"Mean: \",np.mean(a))\n",
    "print(\"Max : \",np.max(a))"
   ]
  },
  {
   "cell_type": "code",
   "execution_count": 21,
   "id": "b0de75fe-eca3-413f-87d3-bd6ac88e6f03",
   "metadata": {},
   "outputs": [
    {
     "name": "stdout",
     "output_type": "stream",
     "text": [
      "[1 2 3 4 5 6 7 8 9]\n",
      "[[1 2 3]\n",
      " [4 5 6]\n",
      " [7 8 9]]\n",
      "[1 2 3 4 5 6 7 8 9]\n",
      "greater than 5:  [6 7 8 9]\n",
      "less than 5: [1 2 3 4]\n"
     ]
    }
   ],
   "source": [
    "a=np.arange(1,10)\n",
    "print(a)\n",
    "\n",
    "reshaped=a.reshape((3,3))\n",
    "print(reshaped)\n",
    "linear=reshaped.reshape(-1)\n",
    "print(linear)\n",
    "\n",
    "print(\"greater than 5: \",linear[linear>5])\n",
    "print(\"less than 5:\",linear[linear<5])"
   ]
  },
  {
   "cell_type": "code",
   "execution_count": 23,
   "id": "2112c7c7-b753-4345-8ad6-8bbd10f1abe5",
   "metadata": {},
   "outputs": [
    {
     "name": "stdout",
     "output_type": "stream",
     "text": [
      "Random numbers between 0 to 3:  [0.13901248 0.60117863 0.87522693]\n",
      "random integer: \n",
      " 60 2\n"
     ]
    }
   ],
   "source": [
    "print(\"Random numbers between 0 to 3: \",np.random.rand(3))\n",
    "print(\"random integer: \\n\",np.random.randint(1,100),2)"
   ]
  },
  {
   "cell_type": "code",
   "execution_count": 26,
   "id": "c0d605c8-5df1-4e83-9fcf-9895aa977d27",
   "metadata": {},
   "outputs": [
    {
     "name": "stdout",
     "output_type": "stream",
     "text": [
      "[[ True  True  True]\n",
      " [ True  True  True]\n",
      " [ True  True  True]]\n"
     ]
    }
   ],
   "source": [
    "''' code to print a 3x3 matrix which ere filled with boolean value True using numpy'''\n",
    "import numpy as np\n",
    "matrix=np.full((3,3),True,dtype=bool)\n",
    "print(matrix)"
   ]
  },
  {
   "cell_type": "code",
   "execution_count": null,
   "id": "2aedb9c6-1e1b-4513-bb43-2da6f0f8cc13",
   "metadata": {},
   "outputs": [],
   "source": []
  }
 ],
 "metadata": {
  "kernelspec": {
   "display_name": "Python 3 (ipykernel)",
   "language": "python",
   "name": "python3"
  },
  "language_info": {
   "codemirror_mode": {
    "name": "ipython",
    "version": 3
   },
   "file_extension": ".py",
   "mimetype": "text/x-python",
   "name": "python",
   "nbconvert_exporter": "python",
   "pygments_lexer": "ipython3",
   "version": "3.13.5"
  }
 },
 "nbformat": 4,
 "nbformat_minor": 5
}
