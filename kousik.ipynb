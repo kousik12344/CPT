{
 "cells": [
  {
   "cell_type": "code",
   "execution_count": 3,
   "id": "f8ff157c-d4c4-4ef4-abf5-c37a57682e86",
   "metadata": {},
   "outputs": [
    {
     "name": "stdout",
     "output_type": "stream",
     "text": [
      "BM\n",
      "160\n",
      "200\n",
      "Car is not moving\n"
     ]
    }
   ],
   "source": [
    "# encapsulation\n",
    "''' basic encapsulation with attributes ,private attributes \n",
    "1. __var,__x,__a\n",
    "self.__a'''\n",
    "class car:\n",
    "    def __init__(self,brand,speed):\n",
    "        self.brand=brand\n",
    "        self.__speed=speed\n",
    "    def  get_speed(self):\n",
    "        return self.__speed\n",
    "    def set_speed(self,speed):\n",
    "        if speed>=0:\n",
    "            self.__speed=speed\n",
    "        else:\n",
    "            print(\"Car is not moving\")\n",
    "c = car(\"BM\",160)\n",
    "print(c.brand)\n",
    "print(c.get_speed())\n",
    "c.set_speed(200)\n",
    "print(c.get_speed())\n",
    "c.set_speed(-10)\n"
   ]
  },
  {
   "cell_type": "code",
   "execution_count": 7,
   "id": "91cf03ce-9aec-4a73-a12c-4615a29b0275",
   "metadata": {},
   "outputs": [
    {
     "name": "stdout",
     "output_type": "stream",
     "text": [
      "kousik\n",
      " Name: kousik, Age: 20\n"
     ]
    }
   ],
   "source": [
    "# protected attributes\n",
    "class student:\n",
    "    def __init__(self,name,age):\n",
    "        self._name=name\n",
    "        self._age=age\n",
    "    def display_info(self):\n",
    "        print(f\" Name: {self._name}, Age: {self._age}\")\n",
    "s=student(\"kousik\",20)\n",
    "print(s._name)\n",
    "s.display_info()"
   ]
  },
  {
   "cell_type": "code",
   "execution_count": 5,
   "id": "d3eb0b87-43b8-47fd-b006-775e9af4c5e7",
   "metadata": {},
   "outputs": [
    {
     "name": "stdout",
     "output_type": "stream",
     "text": [
      "280000.0\n"
     ]
    }
   ],
   "source": [
    "# private methods\n",
    "class emp:\n",
    "    def __init__(self,name,sal):\n",
    "        self.name=name\n",
    "        self.__sal=sal\n",
    "    def __bonus(self):\n",
    "        return self.__sal*0.4\n",
    "    def pack(self):\n",
    "        return self.__sal +self.__bonus()\n",
    "e=emp(\"Pradeep\",200000)\n",
    "print(e.pack())    "
   ]
  },
  {
   "cell_type": "code",
   "execution_count": 6,
   "id": "59ae296b-62aa-4707-869f-b1a39b14c4e7",
   "metadata": {},
   "outputs": [
    {
     "name": "stdout",
     "output_type": "stream",
     "text": [
      "97.0\n",
      "Name : koushi , GPA: 97.00\n"
     ]
    }
   ],
   "source": [
    "''' calculate the average of 4 subjects of a student by taking protected attributes , pass name and four subjects marks to class student \n",
    "find gpa and assign the avg to gpa\n",
    "name = \"*****\"\n",
    "marks = [99,79,84,95]\n",
    "output = average of grades =90.0\n",
    "output = name ***** , gpa=90.00 '''\n",
    "class student:\n",
    "    def __init__(self,name,grades):\n",
    "        self._name=name\n",
    "        self._grades=grades\n",
    "\n",
    "    def gpa(self):\n",
    "        if not self._grades:\n",
    "            return 0\n",
    "        return sum(self._grades)/len(self._grades)\n",
    "        \n",
    "    def display_info(self):\n",
    "        print(f\"Name : {self._name} , GPA: {self.gpa():.2f}\")\n",
    "s=student(\"koushi\",[92,99,98,99])\n",
    "print(s.gpa())\n",
    "s.display_info()\n",
    "\n",
    "\n",
    "        "
   ]
  },
  {
   "cell_type": "code",
   "execution_count": 10,
   "id": "28b9f6d7-1044-497b-a2f2-5e02fcd77ced",
   "metadata": {},
   "outputs": [
    {
     "ename": "ZeroDivisionError",
     "evalue": "division by zero",
     "output_type": "error",
     "traceback": [
      "\u001b[1;31m---------------------------------------------------------------------------\u001b[0m",
      "\u001b[1;31mZeroDivisionError\u001b[0m                         Traceback (most recent call last)",
      "Cell \u001b[1;32mIn[10], line 2\u001b[0m\n\u001b[0;32m      1\u001b[0m \u001b[38;5;124;03m''' Errors and exceptions '''\u001b[39;00m\n\u001b[1;32m----> 2\u001b[0m \u001b[38;5;241m5\u001b[39m\u001b[38;5;241m/\u001b[39m\u001b[38;5;241m0\u001b[39m\n",
      "\u001b[1;31mZeroDivisionError\u001b[0m: division by zero"
     ]
    }
   ],
   "source": [
    "''' Errors and exceptions '''\n",
    "5/0"
   ]
  },
  {
   "cell_type": "code",
   "execution_count": 12,
   "id": "e56b0987-7e48-4225-9389-790e4a13b467",
   "metadata": {},
   "outputs": [
    {
     "ename": "NameError",
     "evalue": "name 'var' is not defined",
     "output_type": "error",
     "traceback": [
      "\u001b[1;31m---------------------------------------------------------------------------\u001b[0m",
      "\u001b[1;31mNameError\u001b[0m                                 Traceback (most recent call last)",
      "Cell \u001b[1;32mIn[12], line 1\u001b[0m\n\u001b[1;32m----> 1\u001b[0m var\u001b[38;5;241m+\u001b[39m\u001b[38;5;241m66\u001b[39m\n",
      "\u001b[1;31mNameError\u001b[0m: name 'var' is not defined"
     ]
    }
   ],
   "source": [
    "var+66\n"
   ]
  },
  {
   "cell_type": "code",
   "execution_count": 14,
   "id": "0f6f54f8-60f3-4551-a46c-abe0ae45254b",
   "metadata": {},
   "outputs": [
    {
     "ename": "TypeError",
     "evalue": "can only concatenate str (not \"int\") to str",
     "output_type": "error",
     "traceback": [
      "\u001b[1;31m---------------------------------------------------------------------------\u001b[0m",
      "\u001b[1;31mTypeError\u001b[0m                                 Traceback (most recent call last)",
      "Cell \u001b[1;32mIn[14], line 1\u001b[0m\n\u001b[1;32m----> 1\u001b[0m \u001b[38;5;124m'\u001b[39m\u001b[38;5;124mabc\u001b[39m\u001b[38;5;124m'\u001b[39m\u001b[38;5;241m+\u001b[39m\u001b[38;5;241m123\u001b[39m\n",
      "\u001b[1;31mTypeError\u001b[0m: can only concatenate str (not \"int\") to str"
     ]
    }
   ],
   "source": [
    "'abc'+123"
   ]
  },
  {
   "cell_type": "code",
   "execution_count": null,
   "id": "bb7441e3-660b-49a9-bf67-9740ac9badc4",
   "metadata": {},
   "outputs": [],
   "source": [
    "'''  built-in exceptions '''\n",
    "1. Exception\n",
    "2. StandardError\n",
    "3. SystemError - sys.exit()\n",
    "4. OverflowError\n",
    "5. ArithmeticError\n",
    "6. IndexError\n",
    "7. KeyError\n",
    "8. KeyboardInterrupt\n",
    "9. StopIterationError\n",
    "10. EnvironmentalError\n",
    "11. IOError\n",
    "12. NotImplementedError\n",
    "\n"
   ]
  },
  {
   "cell_type": "code",
   "execution_count": 3,
   "id": "5c08668a-a183-46a6-9be4-8bb7cc59d6d2",
   "metadata": {},
   "outputs": [
    {
     "name": "stdin",
     "output_type": "stream",
     "text": [
      "Enter the numerator:  6\n",
      "Enter the denominator:  0\n"
     ]
    },
    {
     "name": "stdout",
     "output_type": "stream",
     "text": [
      "Denominator cannot be zero\n"
     ]
    }
   ],
   "source": [
    "# handle zero exception\n",
    "num1 = int(input(\"Enter the numerator: \"))\n",
    "num2 = int(input(\"Enter the denominator: \"))\n",
    "try:\n",
    "    quo=num1/num2\n",
    "    print(\"Quotient:\",quo)\n",
    "except (ZeroDivisionError):\n",
    "    print(\"Denominator cannot be zero\")"
   ]
  },
  {
   "cell_type": "code",
   "execution_count": 7,
   "id": "a64c7782-3b77-408a-9c2f-3a360549e6d1",
   "metadata": {},
   "outputs": [
    {
     "name": "stdin",
     "output_type": "stream",
     "text": [
      "Enter a number: asdffg\n"
     ]
    },
    {
     "name": "stdout",
     "output_type": "stream",
     "text": [
      "Please enter carefully.......\n",
      "Exit from exception\n"
     ]
    }
   ],
   "source": [
    "# multiple exception blocks\n",
    "try:\n",
    "    num=int(input(\"Enter a number:\"))\n",
    "    print(num**3)\n",
    "except (KeyboardInterrupt):\n",
    "    print(\"Enter only numeric.........program ends!!!\")\n",
    "except (ValueError):\n",
    "    print(\"Please enter carefully.......\")\n",
    "print(\"Exit from exception\")    "
   ]
  },
  {
   "cell_type": "code",
   "execution_count": 13,
   "id": "a51975c1-6d39-4c5a-b247-92cb52c06caf",
   "metadata": {},
   "outputs": [
    {
     "name": "stdin",
     "output_type": "stream",
     "text": [
      "Enter a number: khigou\n"
     ]
    },
    {
     "ename": "NameError",
     "evalue": "name 'KeyboardInterupt' is not defined",
     "output_type": "error",
     "traceback": [
      "\u001b[1;31m---------------------------------------------------------------------------\u001b[0m",
      "\u001b[1;31mValueError\u001b[0m                                Traceback (most recent call last)",
      "Cell \u001b[1;32mIn[13], line 2\u001b[0m\n\u001b[0;32m      1\u001b[0m \u001b[38;5;28;01mtry\u001b[39;00m:\n\u001b[1;32m----> 2\u001b[0m     num\u001b[38;5;241m=\u001b[39m\u001b[38;5;28mint\u001b[39m(\u001b[38;5;28minput\u001b[39m(\u001b[38;5;124m\"\u001b[39m\u001b[38;5;124mEnter a number:\u001b[39m\u001b[38;5;124m\"\u001b[39m))\n\u001b[0;32m      3\u001b[0m     \u001b[38;5;28mprint\u001b[39m(num\u001b[38;5;241m-\u001b[39m\u001b[38;5;241m55\u001b[39m)\n",
      "\u001b[1;31mValueError\u001b[0m: invalid literal for int() with base 10: 'khigou'",
      "\nDuring handling of the above exception, another exception occurred:\n",
      "\u001b[1;31mNameError\u001b[0m                                 Traceback (most recent call last)",
      "Cell \u001b[1;32mIn[13], line 4\u001b[0m\n\u001b[0;32m      2\u001b[0m     num\u001b[38;5;241m=\u001b[39m\u001b[38;5;28mint\u001b[39m(\u001b[38;5;28minput\u001b[39m(\u001b[38;5;124m\"\u001b[39m\u001b[38;5;124mEnter a number:\u001b[39m\u001b[38;5;124m\"\u001b[39m))\n\u001b[0;32m      3\u001b[0m     \u001b[38;5;28mprint\u001b[39m(num\u001b[38;5;241m-\u001b[39m\u001b[38;5;241m55\u001b[39m)\n\u001b[1;32m----> 4\u001b[0m \u001b[38;5;28;01mexcept\u001b[39;00m (KeyboardInterupt, \u001b[38;5;167;01mValueError\u001b[39;00m , \u001b[38;5;167;01mTypeError\u001b[39;00m):\n\u001b[0;32m      5\u001b[0m     \u001b[38;5;28mprint\u001b[39m(\u001b[38;5;124m\"\u001b[39m\u001b[38;5;124mAccessing from the blocks above\u001b[39m\u001b[38;5;124m\"\u001b[39m)\n\u001b[0;32m      6\u001b[0m \u001b[38;5;28mprint\u001b[39m(\u001b[38;5;124m\"\u001b[39m\u001b[38;5;124mEnd\u001b[39m\u001b[38;5;124m\"\u001b[39m)\n",
      "\u001b[1;31mNameError\u001b[0m: name 'KeyboardInterupt' is not defined"
     ]
    }
   ],
   "source": [
    "try:\n",
    "    num=int(input(\"Enter a number:\"))\n",
    "    print(num-55)\n",
    "except (KeyboardInterupt, ValueError , TypeError):\n",
    "    print(\"Accessing from the blocks above\")\n",
    "print(\"End\")    "
   ]
  },
  {
   "cell_type": "code",
   "execution_count": null,
   "id": "83bc6aa3-00d9-4270-9187-03730455558d",
   "metadata": {},
   "outputs": [],
   "source": []
  }
 ],
 "metadata": {
  "kernelspec": {
   "display_name": "Python 3 (ipykernel)",
   "language": "python",
   "name": "python3"
  },
  "language_info": {
   "codemirror_mode": {
    "name": "ipython",
    "version": 3
   },
   "file_extension": ".py",
   "mimetype": "text/x-python",
   "name": "python",
   "nbconvert_exporter": "python",
   "pygments_lexer": "ipython3",
   "version": "3.12.7"
  }
 },
 "nbformat": 4,
 "nbformat_minor": 5
}
