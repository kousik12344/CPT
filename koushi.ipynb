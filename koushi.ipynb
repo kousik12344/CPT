{
 "cells": [
  {
   "cell_type": "code",
   "execution_count": 8,
   "id": "658358dc-dc7d-4e1b-8b32-655d7c0c4e81",
   "metadata": {},
   "outputs": [
    {
     "name": "stdout",
     "output_type": "stream",
     "text": [
      "Name is Tony,RollNO:101\n",
      "Name is Mike,RollNO:103\n"
     ]
    }
   ],
   "source": [
    "class student:\n",
    "    def __init__(self,name,num):\n",
    "        self.name=name\n",
    "        self.num=num\n",
    "    def display(self):\n",
    "        print(f\"Name is {self.name},RollNO:{self.num}\")\n",
    "s1=student('Tony',101)\n",
    "s2=student('Mike',103)\n",
    "s1.display()\n",
    "s2.display()"
   ]
  },
  {
   "cell_type": "code",
   "execution_count": 10,
   "id": "d0f4bd15-0b85-47df-9a18-3cd61152bf6d",
   "metadata": {},
   "outputs": [
    {
     "name": "stdin",
     "output_type": "stream",
     "text": [
      "Enter the value of length: 4\n",
      "Enter the value of Breadth: 3\n"
     ]
    },
    {
     "name": "stdout",
     "output_type": "stream",
     "text": [
      "Area of Rectangle is: 12\n",
      "Perimeter of Rectangle is: 14\n"
     ]
    }
   ],
   "source": [
    "'''code for calculating the area and perimeter of a rectangle by taking user defined input as an object and class as rectangle,return the values to display '''\n",
    "class rectangle:\n",
    "    def __init__(self,length,breadth):\n",
    "        self.length=length\n",
    "        self.breadth=breadth\n",
    "    def area(self):    \n",
    "         return self.length*self.breadth\n",
    "    def perimeter(self):\n",
    "        return 2*(self.length+self.breadth)\n",
    "\n",
    "length=int(input(\"Enter the value of length:\",))\n",
    "breadth=int(input(\"Enter the value of Breadth:\",))\n",
    "r=rectangle(length,breadth)\n",
    "print(\"Area of Rectangle is:\",r.area())\n",
    "print(\"Perimeter of Rectangle is:\",r.perimeter())\n"
   ]
  },
  {
   "cell_type": "code",
   "execution_count": 16,
   "id": "c2bfe86e-2d05-4cd5-a647-6e19f6c665f5",
   "metadata": {},
   "outputs": [
    {
     "name": "stdout",
     "output_type": "stream",
     "text": [
      "var:  1100\n"
     ]
    }
   ],
   "source": [
    "#calling a method from another method in a single class\n",
    "class one():\n",
    "    def __init__(self,var):\n",
    "        self.var=var\n",
    "    def display(self):\n",
    "        print(\"var: \",self.var)\n",
    "    def call(self):\n",
    "        self.var+=1000\n",
    "        self.display()\n",
    "o=one(100)\n",
    "o.call()      "
   ]
  },
  {
   "cell_type": "code",
   "execution_count": 18,
   "id": "16302dee-6303-4f16-9c5c-d81e0366ac81",
   "metadata": {},
   "outputs": [
    {
     "name": "stdout",
     "output_type": "stream",
     "text": [
      "Var : 10\n",
      "Var : 100\n"
     ]
    }
   ],
   "source": [
    "#code for a class method to call a function which is defined in global name space\n",
    "def globe(x):\n",
    "    return x*10\n",
    "class abc():\n",
    "    def __init__(self,var):\n",
    "        self.var=var\n",
    "    def display(self):\n",
    "       print(\"Var :\",self.var)\n",
    "    def modify(self):\n",
    "        self.var=globe(self.var)\n",
    "obj=abc(10)\n",
    "obj.display()\n",
    "obj.modify()\n",
    "obj.display()"
   ]
  },
  {
   "cell_type": "code",
   "execution_count": 33,
   "id": "e617b96d-263d-4551-96ea-ebc833047a5e",
   "metadata": {},
   "outputs": [
    {
     "name": "stdin",
     "output_type": "stream",
     "text": [
      "Enter the marks of Koushik in subject 1:  34\n",
      "Enter the marks of Koushik in subject 2:  45\n",
      "Enter the marks of Koushik in subject 3:  34\n",
      "Enter the marks of Anil in subject 1:  23\n",
      "Enter the marks of Anil in subject 2:  23\n",
      "Enter the marks of Anil in subject 3:  45\n"
     ]
    },
    {
     "name": "stdout",
     "output_type": "stream",
     "text": [
      "Koushik got [34, 45, 34]\n",
      "Anil got [23, 23, 45]\n"
     ]
    }
   ],
   "source": [
    "class student:\n",
    "    def __init__(self,name):\n",
    "        self.name=name\n",
    "        self.marks=[]\n",
    "        \n",
    "    def entermarks(self): \n",
    "        for i in range(3):\n",
    "            m=int(input(\"Enter the marks of %s in subject %d: \"%(self.name,i+1)))\n",
    "            self.marks.append(m)\n",
    "    def display(self):\n",
    "                print(self.name,\"got\",self.marks)\n",
    "s1=student(\"Koushik\")\n",
    "s1.entermarks()\n",
    "s2=student(\"Anil\")\n",
    "s2.entermarks()\n",
    "s1.display()\n",
    "s2.display()"
   ]
  },
  {
   "cell_type": "markdown",
   "id": "ba77946e-d620-40b3-90a1-a326a21c47db",
   "metadata": {},
   "source": []
  },
  {
   "cell_type": "code",
   "execution_count": null,
   "id": "5a7842ca-e3f8-4a1a-836a-2986ac108bdb",
   "metadata": {},
   "outputs": [],
   "source": []
  }
 ],
 "metadata": {
  "kernelspec": {
   "display_name": "Python 3 (ipykernel)",
   "language": "python",
   "name": "python3"
  },
  "language_info": {
   "codemirror_mode": {
    "name": "ipython",
    "version": 3
   },
   "file_extension": ".py",
   "mimetype": "text/x-python",
   "name": "python",
   "nbconvert_exporter": "python",
   "pygments_lexer": "ipython3",
   "version": "3.12.7"
  }
 },
 "nbformat": 4,
 "nbformat_minor": 5
}
